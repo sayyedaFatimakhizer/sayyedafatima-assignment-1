{
 "cells": [
  {
   "cell_type": "markdown",
   "id": "8ea6ac78-cf6f-40bb-87e0-82bec2595c23",
   "metadata": {},
   "source": [
    "To-do Task 1: single line comments"
   ]
  },
  {
   "cell_type": "code",
   "execution_count": 1,
   "id": "8fbcc8a7-f20e-48b6-9ff2-529517af2ac5",
   "metadata": {},
   "outputs": [],
   "source": [
    "#Developer name: fatima khizer\n",
    "#Developer email id: s.fatimakhizer@gmail.com\n",
    "#Python IDE: jupyter notebook\n",
    "#Program name: python\n",
    "#Program version: 3.12.3\n",
    "#Start date: July 8, 2024\n",
    "#End date: July 8, 2024"
   ]
  },
  {
   "cell_type": "markdown",
   "id": "38164687-9aa1-4638-9534-71c230ec1fe0",
   "metadata": {},
   "source": [
    "To-do Task 2: multi line comments"
   ]
  },
  {
   "cell_type": "code",
   "execution_count": null,
   "id": "986a7bcd-b225-4be7-8c27-e1225b0a6624",
   "metadata": {},
   "outputs": [],
   "source": [
    "\"\"\"\n",
    "Developer name: fatima khizer\n",
    "Developer email id: s.fatimakhizer@gmail.com\n",
    "Python IDE: jupyter notebook\n",
    "Program name: python\n",
    "Program version: 3.12.3\n",
    "Start date: July 8, 2024\n",
    "End date: July 8, 2024\n",
    "\"\"\""
   ]
  },
  {
   "cell_type": "markdown",
   "id": "825dd238-ef41-4990-b671-bed0c2ff81ae",
   "metadata": {},
   "source": [
    "Your turn tasks: 3 different programs with single line comments"
   ]
  },
  {
   "cell_type": "markdown",
   "id": "4a8a05f5-d723-4f67-b27c-91b5a80af048",
   "metadata": {},
   "source": [
    "Program1#adding two numbers"
   ]
  },
  {
   "cell_type": "code",
   "execution_count": 2,
   "id": "38d50301-8721-4454-b17d-78a1816308b2",
   "metadata": {},
   "outputs": [
    {
     "name": "stdout",
     "output_type": "stream",
     "text": [
      "the result is:  10\n"
     ]
    }
   ],
   "source": [
    "\n",
    "#declaring a variable a and assigning it value 5\n",
    "a=5;\n",
    "#declaring b variable a and assigning it value 5\n",
    "b=5;\n",
    "#adding them and printing the answer\n",
    "print(\"the result is: \",a+b);\n"
   ]
  },
  {
   "cell_type": "markdown",
   "id": "f5db97c6-82be-4db5-8bd7-835249325e80",
   "metadata": {},
   "source": [
    "Program#2: multiplying two numbers"
   ]
  },
  {
   "cell_type": "code",
   "execution_count": 3,
   "id": "f41001d5-41e5-4c2a-ab48-e0c8fa0ddac6",
   "metadata": {},
   "outputs": [
    {
     "name": "stdout",
     "output_type": "stream",
     "text": [
      "the result is:  30\n"
     ]
    }
   ],
   "source": [
    "#declaring a variable a and assigning it value 5\n",
    "a=5;\n",
    "#declaring b variable a and assigning it value 6\n",
    "b=6;\n",
    "#multiplying them and printing the answer\n",
    "print(\"the result is: \",a*b);"
   ]
  },
  {
   "cell_type": "markdown",
   "id": "9c267d8b-981d-4b6c-938b-165c10969c4b",
   "metadata": {},
   "source": [
    "Program#3: subraction of two numbers"
   ]
  },
  {
   "cell_type": "code",
   "execution_count": 4,
   "id": "2f30fa33-2dcf-424a-b112-dee7c43823d0",
   "metadata": {},
   "outputs": [
    {
     "name": "stdout",
     "output_type": "stream",
     "text": [
      "the answer of subraction is:  -5\n"
     ]
    }
   ],
   "source": [
    "#declaring variable x and assigning it the value 5\n",
    "x=5;\n",
    "#declaring variable y and assigning value 10\n",
    "y=10;\n",
    "#subracting the value of x and y and storing it in z\n",
    "z=x-y;\n",
    "#printing value of z i.e the result\n",
    "print(\"the answer of subraction is: \",z);"
   ]
  },
  {
   "cell_type": "markdown",
   "id": "73c15d58-6691-4e2f-97e1-bcd9dd9b817c",
   "metadata": {},
   "source": [
    "B.Your turn tasks: 3 different programs with multi line comments"
   ]
  },
  {
   "cell_type": "code",
   "execution_count": 7,
   "id": "9b7cbf14-cfd1-4988-9d72-89ab5a39a42e",
   "metadata": {},
   "outputs": [
    {
     "name": "stdin",
     "output_type": "stream",
     "text": [
      "enter the radius of the circle 2\n"
     ]
    },
    {
     "name": "stdout",
     "output_type": "stream",
     "text": [
      "the area of circle is:  12.56\n"
     ]
    }
   ],
   "source": [
    "\"\"\"\n",
    "to find the area of shapes such as circles \n",
    "area=pi*r**2\n",
    "so take user input for radius\n",
    "calculating area of circle\n",
    "\"\"\"\n",
    "pi=3.14;\n",
    "radius=int(input(\"enter the radius of the circle\"));\n",
    "area=pi*radius**2;\n",
    "print(\"the area of circle is: \",area);\n"
   ]
  },
  {
   "cell_type": "markdown",
   "id": "3b3be1c5-9cbc-4d64-9db8-94de0e62879a",
   "metadata": {},
   "source": [
    "Program#2:Write a Program in Python which Uses Value Stored in a String Variable (at runtime) and Display the result on the Output Screen using print() Function. Note that the name of String Variable should be str_ number"
   ]
  },
  {
   "cell_type": "code",
   "execution_count": 9,
   "id": "cfa693c4-431e-482d-96cc-75cefceb5003",
   "metadata": {},
   "outputs": [
    {
     "name": "stdin",
     "output_type": "stream",
     "text": [
      "enter a string Allah is one.\n"
     ]
    },
    {
     "name": "stdout",
     "output_type": "stream",
     "text": [
      "the string stored in the variable str_number is:  Allah is one.\n"
     ]
    }
   ],
   "source": [
    "\"\"\"\n",
    "declaring a variable str_number \n",
    "taking user input to store a string in this variable\n",
    "displaying output on the screen by using print function\n",
    "\"\"\"\n",
    "str_number=input(\"enter a string\");\n",
    "print(\"the string stored in the variable str_number is: \",str_number);"
   ]
  },
  {
   "cell_type": "markdown",
   "id": "b0231c4c-9053-4ffd-aae7-ff1d25abdb28",
   "metadata": {},
   "source": [
    "Program#3:finding prime numbers"
   ]
  },
  {
   "cell_type": "code",
   "execution_count": 21,
   "id": "4badd168-f95a-4f3e-9fbc-908ea7f8a79f",
   "metadata": {},
   "outputs": [
    {
     "name": "stdin",
     "output_type": "stream",
     "text": [
      "enter the number to check whether a number is prime? 23\n"
     ]
    },
    {
     "name": "stdout",
     "output_type": "stream",
     "text": [
      "the number is prime\n"
     ]
    }
   ],
   "source": [
    "\"\"\"\n",
    "numbers which are divisible by 1 and itself are called as prime numbers\n",
    "enter a number to check whether it is prime or not\n",
    "so it means it is only has 2 divisors\n",
    "so if above condition is true number will be prime\n",
    "\"\"\"\n",
    "num=int(input(\"enter the number to check whether a number is prime?\"));\n",
    "divisor=0;\n",
    "for i in range(1,num+1):\n",
    "    if(num%i)==0:\n",
    "        divisor+=1;\n",
    "if(divisor==2):\n",
    "    print(\"the number is prime\");\n",
    "else:\n",
    "    print(\"the number is non prime\");\n",
    "\n"
   ]
  },
  {
   "cell_type": "markdown",
   "id": "03ece3f7-fa7a-4254-9739-79e4dc03351c",
   "metadata": {},
   "source": [
    "Task: Creation of variables "
   ]
  },
  {
   "cell_type": "code",
   "execution_count": 22,
   "id": "a28f9d38-0380-46db-a81a-2a34ce46ad61",
   "metadata": {},
   "outputs": [],
   "source": [
    "name=\"fatima\";\n",
    "age=18;\n",
    "gender=\"female\";\n",
    "hobby=\"reading\";\n",
    "interest='coding';\n",
    "address=\"DHA PHASE 8 LAHORE\";"
   ]
  },
  {
   "cell_type": "markdown",
   "id": "85a09b8c-1b47-4b01-a580-0872dcb36b51",
   "metadata": {},
   "source": [
    "To-do task#1: solving arithmetic expressions\n",
    "1)\t15//3%2+5-2*5\n",
    "=5%2+5-2*5\n",
    "=1+5-2*5\n",
    "=1+5-10\n",
    "=-4 Ans\n",
    "2)\t15//(3%2)+(5-2)*5\n",
    "=15//1+3*5\n",
    "=15+3*5\n",
    "=15+15\n",
    "=30 Ans\n",
    "3)\t15/3%2+5-2**3\n",
    "=15/3%2+5-8\n",
    "=1+5-8\n",
    "=-2 Ans"
   ]
  },
  {
   "cell_type": "markdown",
   "id": "691b6f25-6beb-415a-82c7-e3138fa8176a",
   "metadata": {},
   "source": [
    "Your Turn: calculating three expressions of your own choice\n",
    "1) 20 // 4 * 2 % 3 + 6 - 2 ** 2\n",
    "=20//4*2%3+6-4\n",
    "=10%3+6-4\n",
    "=3 Ans\n",
    "2) (25 % 4 + 6) // 2 * (3 - 1)\n",
    "=(1+6)//2*2\n",
    "=7//2*2\n",
    "=3*2\n",
    "=6 Ans\n",
    "3) 10 + 3 * 2 ** 2 - (8 // 4) % 3\n",
    "=10+3*2**2-2%3\n",
    "=10+3*4-2%3\n",
    "=10+12-2\n",
    "=20 Ans"
   ]
  },
  {
   "cell_type": "markdown",
   "id": "eabbe67c-ddf1-40c3-8a06-3388c33aceb5",
   "metadata": {},
   "source": [
    "To-do task#2: pseudocode and flowcharts\n",
    "•\tMultiplying three numbers:\n",
    "1)\t**START**\n",
    "2)\t**DECLARE** three integer variables as num1, num2, num3.\n",
    "3)\t**PROMPT** the user to enter first number: “enter num1”.\n",
    "4)\t**READ**the input value of num1 from user.\n",
    "5)\t**PROMPT** the user to enter second number: “enter num2”.\n",
    "6)\t**READ**the input value of num2 from user.\n",
    "7)\t**PROMPT** the user to enter third number: “enter num3”. \n",
    "8)\t**READ**the input value of num3 from user.\n",
    "9)\t**CALCULATE** the value of multiplication: multiply=num1*num2*num3.\n",
    "10)\t**PRINT ** “the output is multiplied value is:” multiply.\n",
    "11)\t**END**\n",
    "INPUT: Step2-6 \n",
    "PROCESSING: Step 9\n",
    "OUTPUT: Step 9\n",
    "OUTPUT DISPLAY: Step 10\n",
    "\n",
    "FLOWCHART:\n",
    "Start\n",
    "  |\n",
    "  V\n",
    "Prompt:”enter value of number”\n",
    "Read number from user\n",
    "  |\n",
    "  V\n",
    "square=number**2\n",
    "Prompt:” the result is:”square\n",
    "  |\n",
    "  V\t\n",
    "End\n",
    "\n"
   ]
  },
  {
   "cell_type": "markdown",
   "id": "519870d7-0909-4d42-b9ba-cebe73bfc1ab",
   "metadata": {},
   "source": [
    "•\tTaking square of a number:\n",
    "1)\t**START**\n",
    "2)\t**DECLARE**a integer variables as number.\n",
    "3)\t**PROMPT** the user to enter number: “enter number”.\n",
    "4)\t**READ**the input value of number from user.\n",
    "5)\t**CALCULATE** the square of the number: square=number**2.\n",
    "6)\t**PRINT** “the output is:” square.\n",
    "7)\t**END**\n",
    "INPUT: Step2-4 \n",
    "PROCESSING: Step 5\n",
    "OUTPUT: Step 5\n",
    "OUTPUT DISPLAY: Step 6\n",
    "\n",
    "FLOWCHART:\n",
    "Start\n",
    "  |\n",
    "  V\n",
    "Prompt:”enter value of number”\n",
    "Read number from user\n",
    "  |\n",
    "  V\n",
    "square=number**2\n",
    "  |\n",
    "  V\n",
    "Prompt:” the result is:”square\n",
    "  |\n",
    "  V\t\n",
    "End\n",
    "\n"
   ]
  },
  {
   "cell_type": "markdown",
   "id": "e19ada8b-fd52-4fdc-8301-8c6d6f722c53",
   "metadata": {},
   "source": [
    "•\tArea of a circle:\n",
    "1)  **START**\n",
    "2)\t**DECLARE**a integer variable as radius.\n",
    "3)\t**PROMPT** the user to enter radius : “enter radius”.\n",
    "4)\t**READ**the input value of radius from user.\n",
    "5)\t**CALCULATE** the area of the circle: area=3.14*radius**2.\n",
    "6)\t**PRINT** “the output is:” area.\n",
    "7)\t**END**\n",
    "INPUT: Step2-4 \n",
    "PROCESSING: Step 5\n",
    "OUTPUT: Step 5\n",
    "OUTPUT DISPLAY: Step 6\n",
    "\n",
    "FLOWCHART:\n",
    "Start\n",
    " |\n",
    " V\n",
    "Prompt:”enter value of radius of a circle”\n",
    "Read radius value from user\n",
    " |\n",
    " V\n",
    "calulate Area:Area=3.14*r**2\n",
    " |\n",
    " V\n",
    "Prompt:” the result is:”,Area\n",
    " |\n",
    " V\n",
    "End\n",
    "\n"
   ]
  },
  {
   "cell_type": "markdown",
   "id": "6bde2a3b-1160-45d8-8b83-0c102e1ae622",
   "metadata": {},
   "source": [
    "To-do Tasks:using Template based approach (lec#4)"
   ]
  },
  {
   "cell_type": "markdown",
   "id": "0f34418b-0804-4ec3-89fa-3e2bdb002afb",
   "metadata": {},
   "source": [
    "1) Multiplying three numbers"
   ]
  },
  {
   "cell_type": "markdown",
   "id": "02d10c95-3843-40be-8ece-ef20779c386a",
   "metadata": {},
   "source": [
    "1) Extracting client requiremnets:multiplication of 3 integer or float numbers\n",
    "2) Input:3 float numbers ....no.of inputs:3\n",
    "3) Processing:num1*num2*num3\n",
    "No.of outputs:1 (float)\n",
    "4) Pseudocode:**START**\n",
    "   **DECLARE**3 float variables num1,num2,num3\n",
    "   **PROMPT** user to enter the value of first number:\"enter the value of num1\"\n",
    "   **READ**the input value of num1 from user\n",
    "   **PROMPT** user to enter the value of second number:\"enter the value of num2\"\n",
    "   **READ**the input value of num2 from user\n",
    "   **PROMPT** user to enter the value of third number:\"enter the value of num3\"\n",
    "   **READ**the input value of num3 from user\n",
    "   **CALCULATE** the multiplication answer of the numbers:multiply=num1*num2*num3\n",
    "   **PRINT** \"the answer is\",multiply\n",
    "   **END**  \n",
    "6) Language:python\n",
    "7) IDE:jupyter notebook\n",
    "8) Machine:Windows 10\n",
    "9) Developer Name:fatima khizer\n",
    "10) Writing the code with comments\n",
    "11) Testing your code"
   ]
  },
  {
   "cell_type": "code",
   "execution_count": 1,
   "id": "c06620b4-b432-4cae-bcb8-88b37823a353",
   "metadata": {},
   "outputs": [
    {
     "name": "stdin",
     "output_type": "stream",
     "text": [
      "enter the value of num1 2\n",
      "enter the value of num2 2\n",
      "enter the value of num3 2\n"
     ]
    },
    {
     "name": "stdout",
     "output_type": "stream",
     "text": [
      "the answer is 8.0\n"
     ]
    }
   ],
   "source": [
    "#typecasting the three numbers to float\n",
    "num1=float(input(\"enter the value of num1\"));\n",
    "num2=float(input(\"enter the value of num2\"));\n",
    "num3=float(input(\"enter the value of num3\"));\n",
    "#calculation\n",
    "multiply=num1*num2*num3;\n",
    "#printing the result\n",
    "print(\"the answer is\",multiply);"
   ]
  },
  {
   "cell_type": "markdown",
   "id": "6f464376-95e2-41f5-a006-550a9225b762",
   "metadata": {},
   "source": [
    "2) Taking square of a number"
   ]
  },
  {
   "cell_type": "markdown",
   "id": "137475cf-f938-41c5-a91d-0c3f16d6622a",
   "metadata": {},
   "source": [
    "1) Extracting client requiremnets:Taking square of a integer or float numbers\n",
    "2) Input:1 float number ....no.of inputs:1\n",
    "3) Processing:number**2\n",
    "No.of outputs:1 (float)\n",
    "4) Pseudocode:**START**\n",
    "**DECLARE**a integer variables as number.\n",
    "**PROMPT** the user to enter number: “enter number”.\n",
    "**READ**the input value of number from user.\n",
    "**CALCULATE** the square of the number: square=number**2.\n",
    "**PRINT** “the output is:” square.\n",
    "**END**\n",
    "5) FLOWCHART:\n",
    "Start\n",
    "  |\n",
    "  V\n",
    "Prompt:\"enter the value of a number to find the square\"\n",
    "Read number from user\n",
    "  |\n",
    "  V\n",
    "square=number**2\n",
    "  |\n",
    "  V\n",
    "Prompt:\"the result is:”square\n",
    "  |\n",
    "  V\t\n",
    "End\n",
    "6) Language:python\n",
    "7) IDE:jupyter notebook\n",
    "8) Machine:Windows 10\n",
    "9) Developer Name:fatima khizer\n",
    "10) Writing the code with comments\n",
    "11) Testing your code\n",
    "\n",
    "\n",
    "\n",
    "\n",
    "\n",
    "\n"
   ]
  },
  {
   "cell_type": "code",
   "execution_count": 3,
   "id": "e997f1a9-d7d4-4b4e-be53-603009de18dd",
   "metadata": {},
   "outputs": [
    {
     "name": "stdin",
     "output_type": "stream",
     "text": [
      "enter the value of a number to find the square 2\n"
     ]
    },
    {
     "name": "stdout",
     "output_type": "stream",
     "text": [
      "the result is: 4.0\n"
     ]
    }
   ],
   "source": [
    "#typecasting string to float\n",
    "number=float(input(\"enter the value of a number to find the square\"));\n",
    "#calculating square\n",
    "square=number**2;\n",
    "#printing the result\n",
    "print(\"the result is:\",square);\n"
   ]
  },
  {
   "cell_type": "markdown",
   "id": "d8a1fe9a-13b2-4056-b66a-d895ec28ed23",
   "metadata": {},
   "source": [
    "3. Area of a circle:"
   ]
  },
  {
   "cell_type": "markdown",
   "id": "0167990e-61ed-4eca-bdb1-b114319a2133",
   "metadata": {},
   "source": [
    "1) Extracting client requiremnets:calculating area of a circle \n",
    "2) Input:1 radius in float as most sutiable data type....no.of inputs:1\n",
    "3) Processing:3.14*r**2\n",
    "No.of outputs:1 (float as most sutiable data type)\n",
    "5) Pseudocode:**START**\n",
    "**DECLARE**a integer variable as radius.\n",
    "**PROMPT** the user to enter radius : “enter radius”.\n",
    "**READ**the input value of radius from user.\n",
    "**CALCULATE** the area of the circle: area=3.14*r**2.\n",
    "**PRINT** “the output is:” area.\n",
    "**END**\n",
    "INPUT: Step2-4 \n",
    "PROCESSING: Step 5\n",
    "OUTPUT: Step 5\n",
    "OUTPUT DISPLAY: Step 6\n",
    "\n",
    "FLOWCHART:\n",
    "Start\n",
    " |\n",
    " V\n",
    "Prompt:”enter value of radius of a circle”\n",
    "Read radius value from user\n",
    " |\n",
    " V\n",
    "calulate Area:Area=3.14*radius**2\n",
    " |\n",
    " V\n",
    "Prompt:” the result is:”,Area\n",
    " |\n",
    " V\n",
    "End"
   ]
  },
  {
   "cell_type": "code",
   "execution_count": 2,
   "id": "04039a71-ea7a-4ae2-9b04-8226367ebd00",
   "metadata": {},
   "outputs": [
    {
     "name": "stdin",
     "output_type": "stream",
     "text": [
      "enter the radius of the circle 2\n"
     ]
    },
    {
     "name": "stdout",
     "output_type": "stream",
     "text": [
      "the area of circle is:  12.56\n"
     ]
    }
   ],
   "source": [
    "#typecasting\n",
    "radius=float(input(\"enter the radius of the circle\"));\n",
    "#calculations\n",
    "area=3.14*radius**2;\n",
    "#printing result\n",
    "print(\"the area of circle is: \",area);"
   ]
  },
  {
   "cell_type": "markdown",
   "id": "60453b3d-279e-4ee6-ba61-f8812aba150d",
   "metadata": {},
   "source": [
    "4. print two digits in reverse order"
   ]
  },
  {
   "cell_type": "markdown",
   "id": "94814847-ccb3-4f19-acfa-fcec4d1d4672",
   "metadata": {},
   "source": [
    "1) Extracting client requiremnets:print two digits in reverse order\n",
    "2) Input:2 digits in integer as most sutible data type....no.of inputs:1\n",
    "3) Processing:\n",
    "No.of outputs:1 (int as most sutiable data type)\n",
    "5) Pseudocode:**START**\n",
    "**DECLARE**a integer variable as number.\n",
    "**PROMPT** the user to enter number : “enter twodigit number”.\n",
    "**READ**the input value of number from user.\n",
    "**CONDITION**:checking whether number is two digit or not.\n",
    "IF \n",
    "      **CALCULATE** the reverse order of numbers by firstdigit=number//10 and seconddigit=number%10.\n",
    "      **PRINT** \"the number in reversed order is:\",str(seconddigit)+str(firstdigit))\n",
    "END IF \n",
    "   **PROMPT**\"please enter a two digit number\"\n",
    " **END**\n",
    "INPUT: Step2-4 \n",
    "PROCESSING: Step 6\n",
    "OUTPUT: Step 6\n",
    "OUTPUT DISPLAY: Step 7\n",
    "\n",
    "FLOWCHART:\n",
    "Start\n",
    " |\n",
    " V\n",
    "Prompt:\"enter value of two digit number”\n",
    "Read number value from user\n",
    " |\n",
    " V\n",
    "CONDITION:checking whether number is two digit or not (if).....no.....prompt:\"please enter a two digit number\".....end\n",
    "                                                        .\n",
    "                                                        .\n",
    "                                                        .                                                        \n",
    "                                                        yes\n",
    "                                                         |  \n",
    "                                                         V  \n",
    "                                                firstdigit=number//10\n",
    "                                                seconddigit=number%10\n",
    "                                                          |  \n",
    "                                                          V\n",
    "                                                prompt:\"the number in reversed order is:\",str(seconddigit)+str(firstdigit))\n",
    "                                                          |  \n",
    "                                                          V\n",
    "                                                         end"
   ]
  },
  {
   "cell_type": "code",
   "execution_count": 7,
   "id": "275f92f5-5a1a-4424-9144-a14f80b389d4",
   "metadata": {},
   "outputs": [
    {
     "name": "stdin",
     "output_type": "stream",
     "text": [
      "enter the value of number 34\n"
     ]
    },
    {
     "name": "stdout",
     "output_type": "stream",
     "text": [
      "the number in reversed order is: 43\n"
     ]
    }
   ],
   "source": [
    "#typecasting and taking userinput for number\n",
    "number=int(input(\"enter the value of number\"));\n",
    "#checking whether number is two digit or not\n",
    "if(number<10 or number>99):\n",
    "    print(\"please enter a two digit number\");\n",
    "#reversing digits of the number\n",
    "#for first digit:\n",
    "firstdigit=number//10;\n",
    "seconddigit=number%10;\n",
    "#result by concatenation\n",
    "print(\"the number in reversed order is:\",str(seconddigit)+str(firstdigit));"
   ]
  },
  {
   "cell_type": "markdown",
   "id": "d2c0804f-c34a-4e23-8d5d-c015a1f2b0e3",
   "metadata": {},
   "source": [
    "5. print three digits in reverse order"
   ]
  },
  {
   "cell_type": "markdown",
   "id": "b269ab60-2bd3-44a0-b7fb-c402e352e69c",
   "metadata": {
    "jupyter": {
     "source_hidden": true
    }
   },
   "source": [
    "1) Extracting client requiremnets:print three digits in reverse order\n",
    "2) Input:3 digits in integer as most sutible data type....no.of inputs:1\n",
    "3) Processing:\n",
    "No.of outputs:1 (int as most sutiable data type)\n",
    "5) Pseudocode:**START**\n",
    "**DECLARE**a integer variable as number.\n",
    "**PROMPT** the user to enter number : “enter three digit number”.\n",
    "**READ**the input value of number from user.\n",
    "**CONDITION**:checking whether number is three digit or not.\n",
    "IF FALSE:\n",
    "        **PROMPT**:\"enter three digit number\"\n",
    "**END**\n",
    "IF TRUE: \n",
    "      **CALCULATE** the reverse order of numbers by firstdigit=number//100 ,remaining=number%100,seconddigit=remaining//10,thirddigit=remaining%10\n",
    "      **PRINT** \"the number in reversed order is:\",str(thirddigit)+str(seconddigit)+str(firstdigit))\n",
    "      **END**\n",
    "INPUT: Step2-4 \n",
    "PROCESSING: Step 6\n",
    "OUTPUT: Step 6\n",
    "OUTPUT DISPLAY: Step 7\n",
    "\n",
    "FLOWCHART:\n",
    "Start\n",
    " |\n",
    " V\n",
    "Prompt:\"enter value of three digit number”\n",
    "Read number value from user\n",
    " |\n",
    " V\n",
    "CONDITION:checking whether number is three digit or not (if).....no.....else condition....prompt:\"enter three digit number\"...end\n",
    "                                                        .\n",
    "                                                        .\n",
    "                                                        .                                                        \n",
    "                                                        yes\n",
    "                                                         |  \n",
    "                                                         V  \n",
    "                                                firstdigit=number//100 \n",
    "                                                remaining=number%100\n",
    "                                                seconddigit=remaining//10\n",
    "                                                thirddigit=remaining%10\n",
    "                                                          |  \n",
    "                                                          V\n",
    "                                                prompt:\"the number in reversed order is:\",str(thirddigit)+str(seconddigit)+str(firstdigit))\n",
    "                                                          |  \n",
    "                                                          V\n",
    "                                                         End\n",
    "                                                "
   ]
  },
  {
   "cell_type": "code",
   "execution_count": 13,
   "id": "3519c19e-1b12-46a1-838d-4b1fb912ee41",
   "metadata": {},
   "outputs": [
    {
     "name": "stdin",
     "output_type": "stream",
     "text": [
      "enter the value of number 788\n"
     ]
    },
    {
     "name": "stdout",
     "output_type": "stream",
     "text": [
      "the number in reversed order is: 887\n"
     ]
    }
   ],
   "source": [
    "#typecasting and taking userinput for number\n",
    "number=int(input(\"enter the value of number\"));\n",
    "#checking whether number is two digit or not\n",
    "if(number>=100 and number<=999):\n",
    "    firstdigit=number//100;\n",
    "    remaining=number%100;\n",
    "    seconddigit=remaining//10;\n",
    "    thirddigit=remaining%10;\n",
    "    print(\"the number in reversed order is:\",str(thirddigit)+str(seconddigit)+str(firstdigit));\n",
    "else:\n",
    "    print(\"enter 3 digit number only\");"
   ]
  },
  {
   "cell_type": "markdown",
   "id": "5cd53d72-0994-471d-8e31-bb9a3bb6fdb1",
   "metadata": {},
   "source": [
    "To-do Tasks:using Template based approach (lec#5)"
   ]
  },
  {
   "cell_type": "markdown",
   "id": "db0ecdb2-9c44-49de-89a8-b2111f814328",
   "metadata": {},
   "source": [
    "1) Checking whether a number is positive,negative or zero."
   ]
  },
  {
   "cell_type": "code",
   "execution_count": null,
   "id": "de30a6ef-fcac-4830-85e3-7f1573f35d4a",
   "metadata": {},
   "outputs": [],
   "source": [
    "1) Extracting client requiremnets:Checking whether a number is positive,negative or zero.\n",
    "2) Input:1 number in integer as most sutiable data type....no.of inputs:1\n",
    "3) Processing:\n",
    "No.of outputs:1 (str as most sutiable data type)\n",
    "5) Pseudocode:**START**\n",
    "**DECLARE**a integer variable as number.\n",
    "**PROMPT** the user to enter number : “enter number”.\n",
    "**READ**the input value of number from user.\n",
    "**CONDITION**:checking whether number greater,less or equal to zero.\n",
    "IF \n",
    "    number>0\n",
    "    **PRINT**(\"number is positive\")\n",
    "END IF\n",
    "ELIF    \n",
    "    number>0\n",
    "    **PRINT**(\"number is negative\")\n",
    "ELSE\n",
    "    **PRINT**(\"number is zero\")\n",
    "END IF\n",
    "**END**\n",
    "INPUT: Step2-4 \n",
    "PROCESSING: Step 5-7\n",
    "OUTPUT: Step 5-6\n",
    "OUTPUT DISPLAY: Step 5-7\n",
    "\n",
    "FLOWCHART:\n",
    "Start\n",
    " |\n",
    " V\n",
    "Prompt:\"enter value number”\n",
    "Read number value from user\n",
    " |\n",
    " V\n",
    "CONDITION:checking whether number is positive  or not (if).....no.....condition#2:....yes prompt:\"number is negative\"....no....else condition:prompt:\"number is zero\"\n",
    "                                                        .\n",
    "                                                        .\n",
    "                                                        .                                                        \n",
    "                                                        yes\n",
    "                                                         |  \n",
    "                                                         V  \n",
    "                                                prompt:\"the number is positive\n",
    "                                                          |  \n",
    "                                                          V\n",
    "                                                         end\n",
    "                                                         \n",
    "                                                    "
   ]
  },
  {
   "cell_type": "code",
   "execution_count": 3,
   "id": "f2ccd77d-77f6-48dd-996f-2628c8adc978",
   "metadata": {},
   "outputs": [
    {
     "name": "stdin",
     "output_type": "stream",
     "text": [
      "please enter a number 23444\n"
     ]
    },
    {
     "name": "stdout",
     "output_type": "stream",
     "text": [
      "number is positive\n"
     ]
    }
   ],
   "source": [
    "number=int(input(\"please enter a number\"));\n",
    "if number>0:\n",
    "    print(\"number is positive\");\n",
    "elif number<0:\n",
    "    print(\"number is negative\");\n",
    "else:\n",
    "    print(\"number is zero\");"
   ]
  },
  {
   "cell_type": "markdown",
   "id": "c64d6811-862a-4726-afc8-241e06ad4440",
   "metadata": {},
   "source": [
    "To-do Tasks:using Template based approach (lec#6)"
   ]
  },
  {
   "cell_type": "markdown",
   "id": "b9eac20c-2115-4493-84af-3928ebf49c1e",
   "metadata": {},
   "source": [
    "1) input age as a input to tell eligibility to vote or not"
   ]
  },
  {
   "cell_type": "markdown",
   "id": "a8ee0555-a739-41f7-b7cc-c70c678a1cd4",
   "metadata": {},
   "source": [
    "1) Extracting client requiremnets:Checking whether eligibility to vote or not\n",
    "2) Input:1 age in integer as most sutiable data type....no.of inputs:1\n",
    "3) Processing:\n",
    "No.of outputs:1 (str as most sutiable data type)\n",
    "5) Pseudocode:**START**\n",
    "**DECLARE**a integer variable as age.\n",
    "**PROMPT** the user to enter age : “enter age.\n",
    "**READ**the input value of age from user.\n",
    "**CONDITION**:checking whether age greater or equal to 18.\n",
    "IF \n",
    "    age>=18\n",
    "    **PRINT**(\"eligiable to vote\")\n",
    "ELSE\n",
    "    **PRINT**(\"not eligiable to vote\")\n",
    "END IF\n",
    "**END**\n",
    "INPUT: Step2-3 \n",
    "PROCESSING: Step 4-5\n",
    "OUTPUT: Step 4-5\n",
    "OUTPUT DISPLAY: Step 4-5"
   ]
  },
  {
   "cell_type": "code",
   "execution_count": 5,
   "id": "5f20ce31-911c-4f95-bb3d-691a720da1e2",
   "metadata": {},
   "outputs": [
    {
     "name": "stdin",
     "output_type": "stream",
     "text": [
      "please enter your age 22\n"
     ]
    },
    {
     "name": "stdout",
     "output_type": "stream",
     "text": [
      "eligiable to vote\n"
     ]
    }
   ],
   "source": [
    "#inputting age\n",
    "age=int(input(\"please enter your age\"));\n",
    "#checking age for 18 or above\n",
    "if(age>=18):\n",
    "    print(\"eligiable to vote\");\n",
    "#ages less than 18\n",
    "else:\n",
    "    print(\"not eligiable to vote\");"
   ]
  },
  {
   "cell_type": "markdown",
   "id": "bd126b02-cedb-40b2-9193-ba37f5092716",
   "metadata": {},
   "source": [
    "2) inputting hair length to tell a person is male or female.\n",
    "   Note:(hairlength>6inch female)"
   ]
  },
  {
   "cell_type": "markdown",
   "id": "711635a5-19a8-4f0c-914d-cb8a1dc2a86e",
   "metadata": {},
   "source": [
    "1) Extracting client requiremnets:Checking whether a person is male or female based on hair length.\n",
    "2) Input:1 age in float as most sutiable data type....no.of inputs:1\n",
    "3) Processing:\n",
    "No.of outputs:1 (str as most sutiable data type)\n",
    "5) Pseudocode:**START**\n",
    "**DECLARE**a integer variable as hairlength.\n",
    "**PROMPT** the user to enter hairlength : “enter hair length\".\n",
    "**READ**the input value of hairlength from user.\n",
    "**CONDITION**:checking whether hair length greater 6.\n",
    "IF \n",
    "    hairlength>6\n",
    "    **PRINT**(\"female\")\n",
    "ELSE\n",
    "    **PRINT**(\"male\")\n",
    "END IF\n",
    "**END**\n",
    "INPUT: Step2-3 \n",
    "PROCESSING: Step 4-5\n",
    "OUTPUT: Step 4-5\n",
    "OUTPUT DISPLAY: Step 4-5"
   ]
  },
  {
   "cell_type": "code",
   "execution_count": 10,
   "id": "160acfa3-ed2f-42dd-bddb-975f157fb5a2",
   "metadata": {},
   "outputs": [
    {
     "name": "stdin",
     "output_type": "stream",
     "text": [
      "enter hair length 5\n"
     ]
    },
    {
     "name": "stdout",
     "output_type": "stream",
     "text": [
      "male\n"
     ]
    }
   ],
   "source": [
    "#inputting  hair length\n",
    "hairlength=float(input(\"enter hair length\"));\n",
    "#checking hair length greater than 6 for females\n",
    "if(hairlength>6):\n",
    "    print(\"female\");\n",
    "else:\n",
    "    print(\"male\");"
   ]
  },
  {
   "cell_type": "markdown",
   "id": "b3ffa2b3-a8f6-4316-8872-536caa7f02c6",
   "metadata": {},
   "source": [
    "3) a number is pos,neg or zero"
   ]
  },
  {
   "cell_type": "markdown",
   "id": "8ae3c84f-211a-4624-95dd-e4b906c60c17",
   "metadata": {},
   "source": [
    "1) Extracting client requiremnets:Checking whether a number is positive,negative or zero.\n",
    "2) Input:1 number in integer as most sutiable data type....no.of inputs:1\n",
    "3) Processing:\n",
    "No.of outputs:1 (str as most sutiable data type)\n",
    "5) Pseudocode:**START**\n",
    "**DECLARE**a integer variable as number.\n",
    "**PROMPT** the user to enter number : “enter number”.\n",
    "**READ**the input value of number from user.\n",
    "**CONDITION**:checking whether number greater,less or equal to zero.\n",
    "IF \n",
    "    number>0\n",
    "    **PRINT**(\"number is positive\")\n",
    "END IF\n",
    "ELIF    \n",
    "number<0\n",
    "    **PRINT**(\"number is negative\")\n",
    "ELSE\n",
    "    **PRINT**(\"number is zero\")\n",
    "END IF\n",
    "**END**\n",
    "INPUT: Step2-4 \n",
    "PROCESSING: Step 5-7\n",
    "OUTPUT: Step 5-6\n",
    "OUTPUT DISPLAY: Step 5-7\n",
    "\n",
    "FLOWCHART:\n",
    "Start\n",
    " |\n",
    " V\n",
    "Prompt:\"enter value number”\n",
    "Read number value from user\n",
    " |\n",
    " V\n",
    "CONDITION:checking whether number is positive  or not (if).....no.....condition#2:....yes prompt:\"number is negative\"....no....else condition:prompt:\"number is zero\"\n",
    "                                                        .\n",
    "                                                        .\n",
    "                                                        .                                                        \n",
    "                                                        yes\n",
    "                                                         |  \n",
    "                                                         V  \n",
    "                                                prompt:\"the number is positive\n",
    "                                                          |  \n",
    "                                                          V\n",
    "                                                         end"
   ]
  },
  {
   "cell_type": "code",
   "execution_count": 11,
   "id": "64cc2205-aebb-4e85-bb03-af5cc360ec5e",
   "metadata": {},
   "outputs": [
    {
     "name": "stdin",
     "output_type": "stream",
     "text": [
      "please enter a number 89\n"
     ]
    },
    {
     "name": "stdout",
     "output_type": "stream",
     "text": [
      "number is positive\n"
     ]
    }
   ],
   "source": [
    "number=int(input(\"please enter a number\"));\n",
    "if number>0:\n",
    "    print(\"number is positive\");\n",
    "elif number<0:\n",
    "    print(\"number is negative\");\n",
    "else:\n",
    "    print(\"number is zero\");"
   ]
  },
  {
   "cell_type": "markdown",
   "id": "6ad83762-a807-427e-9054-3a323a38562b",
   "metadata": {},
   "source": [
    "4) classification in different age groups such as child,teen,adult,senior based on age."
   ]
  },
  {
   "cell_type": "markdown",
   "id": "774d949f-d576-475e-b966-a581c1fd049d",
   "metadata": {},
   "source": [
    "1) Extracting client requiremnets:Checking age group of a person\n",
    "2) Input:1 age in int as most sutiable data type....no.of inputs:1\n",
    "3) Processing:\n",
    "No.of outputs:1 (str as most sutiable data type)\n",
    "5) Pseudocode:**START**\n",
    "**DECLARE**a integer variable as age.\n",
    "**PROMPT** the user to enter age : “enter age”.\n",
    "**READ**the input value of age from user.\n",
    "**CONDITION**:\n",
    "IF \n",
    "    age==0\n",
    "    **PRINT**(\"age is invalid\")\n",
    "END IF\n",
    "ELIF    \n",
    "    age<=12\n",
    "    **PRINT**(\"child\")\n",
    "ENDIF\n",
    "ELIF\n",
    "    age<=19\n",
    "    **PRINT**(\"teen\")\n",
    "ENDIF\n",
    "ELIF\n",
    "    age<=65\n",
    "    **PRINT**(\"adult\")\n",
    "\n",
    "END IF\n",
    "ELSE\n",
    "    **PRINT**(\"senior\")\n",
    "**END**\n",
    "INPUT: Step2-4 \n",
    "PROCESSING: Step 5-9\n",
    "OUTPUT: Step 5-9\n",
    "OUTPUT DISPLAY: Step 5-9"
   ]
  },
  {
   "cell_type": "code",
   "execution_count": 16,
   "id": "a334aee1-d9c9-4cac-bb65-ba7666715550",
   "metadata": {},
   "outputs": [
    {
     "name": "stdin",
     "output_type": "stream",
     "text": [
      "enter age 34\n"
     ]
    },
    {
     "name": "stdout",
     "output_type": "stream",
     "text": [
      "adult\n"
     ]
    }
   ],
   "source": [
    "#inputting the age is int\n",
    "age=int(input(\"enter age\"));\n",
    "if age==0:\n",
    "    print(\"invalid age\");\n",
    "elif age<=12:\n",
    "    print(\"child\");\n",
    "elif age<=19:\n",
    "    print(\"teen\");\n",
    "elif age<=65:\n",
    "    print(\"adult\");\n",
    "else:\n",
    "    print(\"senior\");"
   ]
  },
  {
   "cell_type": "markdown",
   "id": "395af74f-4ffd-4dde-847b-3f288ffaca4e",
   "metadata": {},
   "source": [
    "5) greatest number from 5 inputted numbers:"
   ]
  },
  {
   "cell_type": "markdown",
   "id": "7f1c6c12-5a69-432e-910c-6f0d1e0bb948",
   "metadata": {},
   "source": [
    "1) Extracting client requiremnets:finding greatest number \n",
    "2) Input:5 number in int as most sutiable data type....no.of inputs:5\n",
    "3) Processing:\n",
    "No.of outputs:1 (int as most sutiable data type)\n",
    "5) Pseudocode:**START**\n",
    "**DECLARE**a integer variable as n1.\n",
    "**PROMPT** the user to enter number: “enter n1”.\n",
    "**READ**the input value of n1 from user.\n",
    "\n",
    "**DECLARE**a integer variable as n2.\n",
    "**PROMPT** the user to enter number: “enter n2”.\n",
    "**READ**the input value of n2 from user.\n",
    "\n",
    "**DECLARE**a integer variable as n3.\n",
    "**PROMPT** the user to enter number : “enter n3”.\n",
    "**READ**the input value of n3 from user.\n",
    "\n",
    "**DECLARE**a integer variable as n4.\n",
    "**PROMPT** the user to enter number:“enter n4”.\n",
    "**READ**the input value of n4 from user.\n",
    "\n",
    "**DECLARE**a integer variable as n5.\n",
    "**PROMPT** the user to enter num : “enter n5”.\n",
    "**READ**the input value of n5 from user.\n",
    "\n",
    "**CONDITION**:\n",
    "IF \n",
    "    (n1>n2)and(n1>n3)and(n1>n4)and(n1>n5):\n",
    "    **PRINT**(\"n1 is greatest\");\n",
    "END IF\n",
    "ELIF    \n",
    "   (n2>n1)and(n2>n3)and(n2>n4)and(n2>n5):\n",
    "    **PRINT**(\"n2 is greatest\");\n",
    "ENDIF\n",
    "ELIF\n",
    "    (n3>n1)and(n3>n2)and(n3>n4)and(n3>n5):\n",
    "    **PRINT**(\"n3 is greatest\");\n",
    "ENDIF\n",
    "ELIF\n",
    "    (n4>n1)and(n4>n2)and(n4>n3)and(n4>n5):\n",
    "    **PRINT**(\"n4 is greatest\");\n",
    "ENDIF\n",
    "\n",
    "ELSE\n",
    "    print(\"n5 is greatest\");\n",
    "\n",
    "**END**\n",
    "INPUT: Step2-16\n",
    "PROCESSING: Step 16-22\n",
    "OUTPUT: Step 16-22\n",
    "OUTPUT DISPLAY: Step 16-22\n"
   ]
  },
  {
   "cell_type": "code",
   "execution_count": 3,
   "id": "72d8ac1d-3d1f-4eef-a773-f55031876e9d",
   "metadata": {},
   "outputs": [
    {
     "name": "stdin",
     "output_type": "stream",
     "text": [
      "enter n1 23\n",
      "enter n2 24\n",
      "enter n3 25\n",
      "enter n4 900\n",
      "enter n5 90000\n"
     ]
    },
    {
     "name": "stdout",
     "output_type": "stream",
     "text": [
      "n5 is greatest\n"
     ]
    }
   ],
   "source": [
    "#inputting numbers n1,n2,n3,n4 and n5 respectively\n",
    "n1=int(input(\"enter n1\"));\n",
    "n2=int(input(\"enter n2\"));\n",
    "n3=int(input(\"enter n3\"));\n",
    "n4=int(input(\"enter n4\"));\n",
    "n5=int(input(\"enter n5\"));\n",
    "#conditions\n",
    "if(n1>n2)and(n1>n3)and(n1>n4)and(n1>n5):\n",
    "    print(\"n1 is greatest\");\n",
    "elif(n2>n1)and(n2>n3)and(n2>n4)and(n2>n5):\n",
    "    print(\"n2 is greatest\");\n",
    "elif(n3>n1)and(n3>n2)and(n3>n4)and(n3>n5):\n",
    "    print(\"n3 is greatest\");\n",
    "\n",
    "elif(n4>n1)and(n4>n2)and(n4>n3)and(n4>n5):\n",
    "    print(\"n4 is greatest\");\n",
    "\n",
    "else:\n",
    "    print(\"n5 is greatest\");\n"
   ]
  },
  {
   "cell_type": "markdown",
   "id": "b972b29a-d4e1-4d71-bcc3-05b8780e06b2",
   "metadata": {},
   "source": [
    "6) Taking sides as input to show type of triangle :isoceless/scalene/equilateral"
   ]
  },
  {
   "cell_type": "markdown",
   "id": "61bdb237-cd6c-4950-bcd1-241962b8bad0",
   "metadata": {},
   "source": [
    "1) Extracting client requiremnets:Taking sides as input to show type of triangle \n",
    "2) Input:1 in int as most sutiable data type....no.of inputs:1\n",
    "3) Processing:\n",
    "No.of outputs:1 (str as most sutiable data type)\n",
    "5) Pseudocode:\n",
    "   1) **START**\n",
    "   2) **DECLARE**a integer variable as s1.\n",
    "   3) **PROMPT** the user to enter side: “enter s1”.\n",
    "   4) **READ**the input value of s1 from user.\n",
    "   5) **DECLARE**a integer variable as s2.\n",
    "   6) **PROMPT** the user to enter side: “enter s2”.\n",
    "   7) **READ**the input value of s2 from user.\n",
    "   8) **DECLARE**a integer variable as s3.\n",
    "   9) **PROMPT** the user to enter side: “enter s3”.\n",
    "   10) **READ**the input value of s3 from user.\n",
    "**CONDITION**:\n",
    "11) IF\n",
    " s1==s2==s3:\n",
    " **PRINT**(\"equilateral\");\n",
    "END IF\n",
    "13) ELIF\n",
    "   (s1==s2)or(s1==s3)or(s2==s3):\n",
    "    **PRINT**(\"isoceless\");\n",
    "14) ELSE\n",
    "    **PRINT**(\"scalene\")\n",
    "END IF\n",
    "15) **END**\n",
    "\n",
    "INPUPT:2-10\n",
    "PROCESSING:11-14\n",
    "OUPTPUT:11-14\n",
    "DISPLAY OUTPUT:11-14"
   ]
  },
  {
   "cell_type": "code",
   "execution_count": 8,
   "id": "57e76ea0-581e-4f39-87da-d112172307d5",
   "metadata": {},
   "outputs": [
    {
     "name": "stdin",
     "output_type": "stream",
     "text": [
      "enter the side 1 23\n",
      "enter the side 2 23\n",
      "enter the side 3 23\n"
     ]
    },
    {
     "name": "stdout",
     "output_type": "stream",
     "text": [
      "equilateral\n"
     ]
    }
   ],
   "source": [
    "#inputting the sides of triangle\n",
    "s1=int(input(\"enter the side 1\"));\n",
    "s2=int(input(\"enter the side 2\"));\n",
    "s3=int(input(\"enter the side 3\"));\n",
    "#for equilateral\n",
    "if s1==s2==s3:\n",
    "    print(\"equilateral\");\n",
    "elif(s1==s2)or(s1==s3)or(s2==s3):\n",
    "    print(\"isoceless\");\n",
    "else:\n",
    "    print(\"scalene\");"
   ]
  },
  {
   "cell_type": "markdown",
   "id": "8ef6c82a-5c64-44d4-b6c5-3005d8843996",
   "metadata": {},
   "source": [
    "7) Finding leap year"
   ]
  },
  {
   "cell_type": "markdown",
   "id": "0ec048f9-8e55-46bd-ab58-513d5e49dd44",
   "metadata": {},
   "source": [
    "1) Extracting client requiremnets:Taking year as input to show leap year\n",
    "2) Input:1 in int as most sutiable data type....no.of inputs:1\n",
    "3) Processing:\n",
    "No.of outputs:1 (str as most sutiable data type)\n",
    "5) Pseudocode:\n",
    "   1) **START**\n",
    "   2) **DECLARE**a integer variable as year\n",
    "   3) **PROMPT** the user to enter year: “enter year”.\n",
    "   4) **READ**the input value of year from user.\n",
    "**CONDITION**:\n",
    "5) IF\n",
    "    (year % 400 == 0) or ((year % 100 != 0)and(year%4==0)):\n",
    "     **PRINT**(\"leap year\");\n",
    "ENDIF\n",
    "6) ELSE:\n",
    "     **PRINT**(\"not a leap year\")\n",
    "7) **END**\n",
    "\n",
    "INPUPT:2-4\n",
    "PROCESSING:5-7\n",
    "OUPTPUT:5-7\n",
    "DISPLAY OUTPUT:5-7"
   ]
  },
  {
   "cell_type": "code",
   "execution_count": 37,
   "id": "de36b447-2af3-43b6-b980-01b8586b3ba1",
   "metadata": {},
   "outputs": [
    {
     "name": "stdin",
     "output_type": "stream",
     "text": [
      "enter year 2024\n"
     ]
    },
    {
     "name": "stdout",
     "output_type": "stream",
     "text": [
      "leap year\n"
     ]
    }
   ],
   "source": [
    "# inputting year\n",
    "year=int(input(\"enter year\"));\n",
    "if (year % 400 == 0) or ((year % 100 != 0)and(year%4==0)):\n",
    "    print(\"leap year\");\n",
    "else:\n",
    "    print(\"not a leap year\");"
   ]
  },
  {
   "attachments": {},
   "cell_type": "markdown",
   "id": "8d7f0f72-1591-41fd-93a3-93c9308ac6fe",
   "metadata": {},
   "source": [
    "1) printing first fifty even numbers using while loop (lec#7)"
   ]
  },
  {
   "cell_type": "markdown",
   "id": "db96edbb-a745-44e2-9872-50eee1dadeb5",
   "metadata": {},
   "source": [
    "1) Extracting client requiremnets:printing first fifty even numbers using while loop \n",
    "2) no.of inputs:0\n",
    "3) Processing:\n",
    "No.of outputs:25 (int as most sutiable data type)\n",
    "4) Pseudocode:\n",
    "   1) **START**\n",
    "   2) **DECLARE**a integer variable as num\n",
    "   3) **LOOP**:\n",
    "      while(num<=50):\n",
    "      Print num.\n",
    "      Increment num by 2.\n",
    "   4) **END**\n",
    "\n",
    "INPUPT:2\n",
    "PROCESSING:3-4\n",
    "OUPTPUT:3-4\n",
    "DISPLAY OUTPUT:3-4"
   ]
  },
  {
   "cell_type": "code",
   "execution_count": 1,
   "id": "e3caf04f-6be8-4d0c-a5ac-f4b0793babc1",
   "metadata": {},
   "outputs": [
    {
     "name": "stdout",
     "output_type": "stream",
     "text": [
      "2\n",
      "4\n",
      "6\n",
      "8\n",
      "10\n",
      "12\n",
      "14\n",
      "16\n",
      "18\n",
      "20\n",
      "22\n",
      "24\n",
      "26\n",
      "28\n",
      "30\n",
      "32\n",
      "34\n",
      "36\n",
      "38\n",
      "40\n",
      "42\n",
      "44\n",
      "46\n",
      "48\n",
      "50\n"
     ]
    }
   ],
   "source": [
    "num=2;\n",
    "while(num<=50):\n",
    "    print(num);\n",
    "    num+=2;"
   ]
  },
  {
   "cell_type": "markdown",
   "id": "ec93a368-d7a7-4c81-bf87-16e94950aec2",
   "metadata": {},
   "source": [
    "2) Taking number as input and  printing table "
   ]
  },
  {
   "cell_type": "markdown",
   "id": "1aa63ce3-19c2-47a0-a491-28029f01e968",
   "metadata": {},
   "source": [
    "1) Extracting client requiremnets:taking number as input and printing table  using while loop \n",
    "2) no.of inputs:1 (int as most sutiable data type)\n",
    "3) Processing:num*counterand Incrementing counter by 1\n",
    "No.of outputs:10 (int as most sutiable data type)\n",
    "4) Pseudocode:\n",
    "   1) **START**\n",
    "   2) **DECLARE**a integer variable as num\n",
    "   3) **PROMPT** user to enter the value of num :\"enter number\"\n",
    "   4) **READ** value of num from user.\n",
    "   5) **DECLARE** a variable as counter\n",
    "   6) **INITIALIZE**counter as 1\n",
    "   7) **LOOP**:\n",
    "      while(counter<=10):\n",
    "      Print num*counter.\n",
    "      Increment counter by 1\n",
    "   8) **END**\n",
    "\n",
    "INPUPT:2-6\n",
    "PROCESSING:7\n",
    "OUPTPUT:7\n",
    "DISPLAY OUTPUT:7"
   ]
  },
  {
   "cell_type": "code",
   "execution_count": 2,
   "id": "0c18e71e-9dd9-4914-95de-46e9db9a7dab",
   "metadata": {},
   "outputs": [
    {
     "name": "stdin",
     "output_type": "stream",
     "text": [
      "enter number 5\n"
     ]
    },
    {
     "name": "stdout",
     "output_type": "stream",
     "text": [
      "5\n",
      "10\n",
      "15\n",
      "20\n",
      "25\n",
      "30\n",
      "35\n",
      "40\n",
      "45\n",
      "50\n"
     ]
    }
   ],
   "source": [
    "num=int(input(\"enter number\"));\n",
    "counter=1;\n",
    "while(counter<=10):\n",
    "    print (num*counter);\n",
    "    counter+=1;"
   ]
  },
  {
   "cell_type": "markdown",
   "id": "ef0a2134-8b64-45a7-8c0e-524bae46ed00",
   "metadata": {},
   "source": [
    "3) printing tables on screen according to lower and upper bound"
   ]
  },
  {
   "cell_type": "markdown",
   "id": "90a9e41d-cf6e-4d24-af5a-023228b7d02e",
   "metadata": {},
   "source": [
    "1) Extracting client requiremnets:printing tables on screen according to lower and upper bound\n",
    "2) no.of inputs:3(int as most sutiable data type)\n",
    "3) Processing:(num*lb)and lb+=1;\n",
    "No.of outputs:variable dep. on user input (int as most sutiable data type)\n",
    "4) Pseudocode:\n",
    "   1) **START**\n",
    "   2) **DECLARE**a integer variable as num\n",
    "   3) **PROMPT** user to enter the value of num :\"enter number\"\n",
    "   4) **READ** value of num from user.\n",
    "   5) **DECLARE**a integer variable as up\n",
    "   6) **PROMPT** user to enter the value of lb :\"enter lower bound\"\n",
    "   7) **READ** value of lb from user.\n",
    "   8) **DECLARE**a integer variable as lb\n",
    "   9) **PROMPT** user to enter the value of up :\"enter upper bound\"\n",
    "   10) **READ** value of up from user.\n",
    "   11) **LOOP**:\n",
    "      while(lb<=up):\n",
    "      Print num*lb.\n",
    "      Increment lb by 1\n",
    "   12)  **END**\n",
    "\n",
    "INPUPT:2-10\n",
    "PROCESSING:11\n",
    "OUPTPUT:11\n",
    "DISPLAY OUTPUT:11"
   ]
  },
  {
   "cell_type": "code",
   "execution_count": 18,
   "id": "8d150abe-362d-42f5-b1ed-4dbf9d751333",
   "metadata": {},
   "outputs": [
    {
     "name": "stdin",
     "output_type": "stream",
     "text": [
      "enter number 2\n",
      "enter lower bound 1\n",
      "enter upper bound 5\n"
     ]
    },
    {
     "name": "stdout",
     "output_type": "stream",
     "text": [
      "2\n",
      "4\n",
      "6\n",
      "8\n",
      "10\n"
     ]
    }
   ],
   "source": [
    "## inputting number\n",
    "num=int(input(\"enter number\"));\n",
    "#inputting lower and upper bound respectively\n",
    "lb=int(input(\"enter lower bound\"));\n",
    "up=int(input(\"enter upper bound\"));\n",
    "#loop\n",
    "while(lb<=up):\n",
    "    print(num*lb);\n",
    "    lb+=1;\n"
   ]
  },
  {
   "cell_type": "markdown",
   "id": "fc3453b1-0f8c-4afa-b0d5-4a075311d099",
   "metadata": {},
   "source": [
    "4) 2 programs from selection structures using loops"
   ]
  },
  {
   "cell_type": "markdown",
   "id": "111719bb-1814-4b78-a8be-312a156d817e",
   "metadata": {},
   "source": [
    "A) checking pos,neg or zero number"
   ]
  },
  {
   "cell_type": "markdown",
   "id": "ac575fe6-5538-4712-a93e-64fc9fad0ad5",
   "metadata": {},
   "source": [
    "1) Extracting client requiremnets:Checking whether a number is positive,negative or zero.\n",
    "2) Input:1 number in integer as most sutiable data type....no.of inputs:1\n",
    "3) Processing:\n",
    "No.of outputs:1 (str as most sutiable data type)\n",
    "5) Pseudocode:**START**\n",
    "  1) **DECLARE**a str variable as check\n",
    "  2) **SET** check with \"yes\".\n",
    "  3) **WHILE** check==\"yes\"\n",
    "       4) **DECLARE**a integer variable as number.\n",
    "       5) **PROMPT** the user to enter number : \"please enter a number or write exit to quit\".\n",
    "       6) **READ**the input value of number from user.\n",
    "       7) IF number==\"exit then BREAK from loop\n",
    "          END IF\n",
    "       8) ELSE\n",
    "             **CONVERT** number to int.\n",
    "             IF \n",
    "               number>0\n",
    "              **PRINT**(\"number is positive\")\n",
    "                END IF\n",
    "            ELIF    \n",
    "                number<0\n",
    "                **PRINT**(\"number is negative\")\n",
    "            ELSE\n",
    "                **PRINT**(\"number is zero\")\n",
    "            END IF\n",
    "      10) **PROMPT** user: \"do you want to continue check then press \\\"yes\\\" or press no to exit\"\n",
    "      11) **READ** value of check from user\n",
    "      12) **END**\n",
    "INPUT: Step1-6,9-10\n",
    "PROCESSING: Step 7-8\n",
    "OUTPUT: Step 7-8\n",
    "OUTPUT DISPLAY: Step 7-8\n"
   ]
  },
  {
   "cell_type": "code",
   "execution_count": 14,
   "id": "108e2c57-9b8d-4418-8cee-9816308c4f76",
   "metadata": {},
   "outputs": [
    {
     "name": "stdin",
     "output_type": "stream",
     "text": [
      "please enter a number or write exit to quit 123\n"
     ]
    },
    {
     "name": "stdout",
     "output_type": "stream",
     "text": [
      "number is positive\n"
     ]
    },
    {
     "name": "stdin",
     "output_type": "stream",
     "text": [
      "do you want to continue check then press \"yes\" or press no to exit yes\n",
      "please enter a number or write exit to quit 0\n"
     ]
    },
    {
     "name": "stdout",
     "output_type": "stream",
     "text": [
      "number is zero\n"
     ]
    },
    {
     "name": "stdin",
     "output_type": "stream",
     "text": [
      "do you want to continue check then press \"yes\" or press no to exit no\n"
     ]
    }
   ],
   "source": [
    "#assigning check value\"yes\"\n",
    "check=\"yes\";\n",
    "#loop\n",
    "while(check==\"yes\"):\n",
    "    #number input\n",
    "    number=input(\"please enter a number or write exit to quit\");\n",
    "    #condition\n",
    "    if number==\"exit\":\n",
    "        break;\n",
    "        #conditions for checking numbers pos,neg or zero\n",
    "    else:\n",
    "        number=int(number);\n",
    "        if number>0:\n",
    "            print(\"number is positive\");\n",
    "        elif number<0:\n",
    "            print(\"number is negative\");\n",
    "        else:\n",
    "            print(\"number is zero\"); \n",
    "            #continue checking or not\n",
    "    check=input(\"do you want to continue check then press \\\"yes\\\" or press no to exit\" );\n",
    "        "
   ]
  },
  {
   "cell_type": "markdown",
   "id": "dbeb7d41-b232-4c14-9e75-5719411b4704",
   "metadata": {},
   "source": [
    "1) Extracting client requiremnets:Taking year as input to show leap year\n",
    "2) Input:1 in int as most sutiable data type....no.of inputs:1\n",
    "3) Processing:\n",
    "No.of outputs:1 (str as most sutiable data type)\n",
    "5) Pseudocode:\n",
    "   1) **START**\n",
    "   2) **DECLARE**a str variable as check\n",
    "   3) **SET** check with \"yes\".\n",
    "   4) **WHILE** check==\"yes\"\n",
    "     5) **DECLARE**a integer variable as year\n",
    "     6) **PROMPT** the user to enter year: “enter year”.\n",
    "     7) **READ**the input value of year from user.\n",
    "     **CONDITION**:\n",
    "     5) IF\n",
    "        (year % 400 == 0) or ((year % 100 != 0)and(year%4==0)):\n",
    "         **PRINT**(\"leap year\");\n",
    "    ENDIF\n",
    "        6) ELSE:\n",
    "             **PRINT**(\"not a leap year\")\n",
    "        7) **PROMPT** user: \"do you want to continue check then press \\\"yes\\\" or press no to exit\"\n",
    "        8) **READ** value of check from user\n",
    "9) **END**\n",
    "\n",
    "INPUPT:5-6,7-8\n",
    "PROCESSING:5\n",
    "OUPTPUT:5\n",
    "OUTPUT DISPLAY: Step 5"
   ]
  },
  {
   "cell_type": "code",
   "execution_count": 3,
   "id": "d69e3875-0da3-42a1-bc70-ecdd1c38d15b",
   "metadata": {},
   "outputs": [
    {
     "name": "stdin",
     "output_type": "stream",
     "text": [
      "enter year 2024\n"
     ]
    },
    {
     "name": "stdout",
     "output_type": "stream",
     "text": [
      "leap year\n"
     ]
    },
    {
     "name": "stdin",
     "output_type": "stream",
     "text": [
      "do you want to continue check then press \"yes\" or press no to exit yes\n",
      "enter year 1999\n"
     ]
    },
    {
     "name": "stdout",
     "output_type": "stream",
     "text": [
      "not a leap year\n"
     ]
    },
    {
     "name": "stdin",
     "output_type": "stream",
     "text": [
      "do you want to continue check then press \"yes\" or press no to exit yes\n",
      "enter year 1000\n"
     ]
    },
    {
     "name": "stdout",
     "output_type": "stream",
     "text": [
      "not a leap year\n"
     ]
    },
    {
     "name": "stdin",
     "output_type": "stream",
     "text": [
      "do you want to continue check then press \"yes\" or press no to exit no\n"
     ]
    }
   ],
   "source": [
    "#assigning check value \"yes\"\n",
    "check=\"yes\";\n",
    "while(check==\"yes\"):\n",
    "# inputting year\n",
    "    year=int(input(\"enter year\"));\n",
    "#conditions\n",
    "    if (year % 400 == 0) or ((year % 100 != 0)and(year%4==0)):\n",
    "        print(\"leap year\");\n",
    "    else:\n",
    "        print(\"not a leap year\");\n",
    "#inputting check\n",
    "    check=input(\"do you want to continue check then press \\\"yes\\\" or press no to exit\" );"
   ]
  },
  {
   "cell_type": "markdown",
   "id": "a2d3abb0-9992-49d5-b6f4-19f3fdef8518",
   "metadata": {},
   "source": [
    "DRY run yourself(lec#8)"
   ]
  },
  {
   "cell_type": "code",
   "execution_count": 4,
   "id": "102a26ac-caf2-4a40-94f4-efb9dcace044",
   "metadata": {},
   "outputs": [
    {
     "name": "stdout",
     "output_type": "stream",
     "text": [
      "2*1=2\n",
      "2*2=4\n",
      "2*3=6\n",
      "2*4=8\n",
      "2*5=10\n",
      "2*6=12\n",
      "2*7=14\n",
      "2*8=16\n",
      "2*9=18\n",
      "2*10=20\n"
     ]
    }
   ],
   "source": [
    "for num in range(1,11):\n",
    "    print(f\"2*{num}={2*num}\");"
   ]
  },
  {
   "cell_type": "markdown",
   "id": "8b593563-38cf-4754-9faf-fb230c13058e",
   "metadata": {},
   "source": [
    "starting value=1\n",
    "ending value=10\n",
    "DRY RUN:NO.of outputs:10\n",
    "Itertion#1: value of i is 1<=10 so2*1=2\n",
    "Itertion#2: value of i is 2<=10 so 2*2=4\n",
    "Itertion#3: value of i is 3<=10 so 2*3=6\n",
    "Itertion#4: value of i is 4<=10 so 2*4=8\n",
    "Itertion#5: value of i is 5<=10 so 2*5=10\n",
    "Itertion#6: value of i is 6<=10 so 2*6=12\n",
    "Itertion#7: value of i is 7<=10 so 2*7=14\n",
    "Itertion#8: value of i is 8<=10 so 2*8=16\n",
    "Itertion#9: value of i is 9<=10 so 2*9=18\n",
    "Itertion#10:value of i is 10<=10 so 2*10=20"
   ]
  },
  {
   "cell_type": "markdown",
   "id": "a70d3cb2-8ca3-4ea9-b395-f9b633cf561f",
   "metadata": {},
   "source": [
    "DRY Run yourself:"
   ]
  },
  {
   "cell_type": "code",
   "execution_count": 6,
   "id": "8ce11e0a-aa1d-47be-a275-fbf20404fa64",
   "metadata": {},
   "outputs": [
    {
     "name": "stdout",
     "output_type": "stream",
     "text": [
      "5*5=25\n",
      "5*6=30\n",
      "5*7=35\n",
      "5*8=40\n"
     ]
    }
   ],
   "source": [
    "for num in range(5,9):\n",
    "    print(f\"5*{num}={5*num}\");"
   ]
  },
  {
   "cell_type": "markdown",
   "id": "c1d185b2-fc7d-4112-904d-14040b9eaf23",
   "metadata": {},
   "source": [
    "DRY RUN:\n",
    "start value:5\n",
    "end value:8\n",
    "no.of outputs:4\n",
    "iteration#1:5*5=25 value of num is 5  cond=true\n",
    "iteration#2:5*6=30 value of num is 5+1=6<=8  cond=true\n",
    "iteration#3:5*7=35 value of num is 6+1=7<=8  cond=true\n",
    "iteration#4:5*8=40 value of num is 7+1=8<=8  cond=true\n",
    "now if value beacomes 9!<=8 cond is false loop ends"
   ]
  },
  {
   "cell_type": "markdown",
   "id": "32dfd78a-8a4b-4f8c-bd59-894d2f79012c",
   "metadata": {},
   "source": [
    "DRY Run yourself:"
   ]
  },
  {
   "cell_type": "code",
   "execution_count": null,
   "id": "5bd79447-f749-47af-9cb0-d84756b87f90",
   "metadata": {},
   "outputs": [],
   "source": [
    "for num in range(5,9,2):\n",
    "    print(f\"5*{num}={5*num}\");"
   ]
  },
  {
   "cell_type": "markdown",
   "id": "a8069238-e4db-4a5d-a414-0379a2a15255",
   "metadata": {},
   "source": [
    "starting value:5\n",
    "ending value:8\n",
    "step:2\n",
    "iterations:2(for 5 and 7)\n",
    "iteration#1:value of num=5<=8 so 5*5=25\n",
    "iteration#2:value of num=7<=8 so 5*7=35"
   ]
  },
  {
   "cell_type": "markdown",
   "id": "34c118ba-2414-4428-9722-348df324871d",
   "metadata": {},
   "source": [
    "To-do#1:first fifty even numbers using for loop"
   ]
  },
  {
   "cell_type": "markdown",
   "id": "16c33bda-800b-4fa3-b5c1-0ffac567a0cb",
   "metadata": {},
   "source": [
    "1) Extracting client requiremnets:printing first fifty even numbers using while loop \n",
    "2) no.of inputs:0\n",
    "3) Processing:\n",
    "No.of outputs:25 (int as most sutiable data type)\n",
    "4) Pseudocode:\n",
    "   1) **START**\n",
    "   2) **DECLARE**a integer variable as i\n",
    "   3) **LOOP**:\n",
    "      for(2,52):\n",
    "      Print i.\n",
    "      Increment num by 2.\n",
    "   4) **END**\n",
    "\n",
    "INPUPT:2\n",
    "PROCESSING:3-4\n",
    "OUPTPUT:3-4\n",
    "DISPLAY OUTPUT:3-4"
   ]
  },
  {
   "cell_type": "code",
   "execution_count": 11,
   "id": "5fbb6c58-14ef-4f88-9919-93d0d1525597",
   "metadata": {
    "scrolled": true
   },
   "outputs": [
    {
     "name": "stdout",
     "output_type": "stream",
     "text": [
      "2\n",
      "4\n",
      "6\n",
      "8\n",
      "10\n",
      "12\n",
      "14\n",
      "16\n",
      "18\n",
      "20\n",
      "22\n",
      "24\n",
      "26\n",
      "28\n",
      "30\n",
      "32\n",
      "34\n",
      "36\n",
      "38\n",
      "40\n",
      "42\n",
      "44\n",
      "46\n",
      "48\n",
      "50\n"
     ]
    }
   ],
   "source": [
    "for i in range(2,5,2):\n",
    "    print(i);\n",
    "    "
   ]
  },
  {
   "cell_type": "markdown",
   "id": "cb423559-db1d-437b-9688-bfc6a945cb1d",
   "metadata": {},
   "source": [
    "2) taking number as input and printing table  using for loop "
   ]
  },
  {
   "cell_type": "markdown",
   "id": "2af559e7-845f-4d1b-a85c-06be8004fd87",
   "metadata": {},
   "source": [
    "1) Extracting client requiremnets:taking number as input and printing table  using while loop \n",
    "2) no.of inputs:1 (int as most sutiable data type)\n",
    "3) Processing:num*i\n",
    "No.of outputs:10 (int as most sutiable data type)\n",
    "4) Pseudocode:\n",
    "   1) **START**\n",
    "   2) **DECLARE**a integer variable as num\n",
    "   3) **PROMPT** user to enter the value of num :\"enter number\"\n",
    "   4) **READ** value of num from user.\n",
    "   5) **DECLARE** a variable as i\n",
    "   6) **INITIALIZE**i in range as 1-11\n",
    "   7) **LOOP**:\n",
    "          for i in range(1,11,1):\n",
    "          print (num*i);    \n",
    "   9) **END**\n",
    "\n",
    "INPUPT:2-6\n",
    "PROCESSING:7\n",
    "OUPTPUT:7\n",
    "DISPLAY OUTPUT:7"
   ]
  },
  {
   "cell_type": "code",
   "execution_count": 14,
   "id": "fdf2b842-71bb-41c2-b9a6-10a1e7830814",
   "metadata": {},
   "outputs": [
    {
     "name": "stdin",
     "output_type": "stream",
     "text": [
      "enter number 2\n"
     ]
    },
    {
     "name": "stdout",
     "output_type": "stream",
     "text": [
      "2*1=2\n",
      "2*2=4\n",
      "2*3=6\n",
      "2*4=8\n",
      "2*5=10\n",
      "2*6=12\n",
      "2*7=14\n",
      "2*8=16\n",
      "2*9=18\n",
      "2*10=20\n"
     ]
    }
   ],
   "source": [
    "#num input\n",
    "num=int(input(\"enter number\"));\n",
    "#for loop\n",
    "for i in range(1,11,1):\n",
    "    #output printing\n",
    "    print (f\"{num}*{i}={num*i}\");\n",
    "    "
   ]
  },
  {
   "cell_type": "markdown",
   "id": "4088d428-ff2c-44b2-ae70-c1dd575971cd",
   "metadata": {},
   "source": [
    "3) printing tables on screen according to lower and upper bound"
   ]
  },
  {
   "cell_type": "markdown",
   "id": "efdbf6dd-b5fb-42d0-a497-6e8cbbd9c756",
   "metadata": {},
   "source": [
    "1) Extracting client requiremnets:printing tables on screen according to lower and upper bound\n",
    "2) no.of inputs:3(int as most sutiable data type)\n",
    "3) Processing:(num*i);\n",
    "No.of outputs:variable dep. on user input (int as most sutiable data type)\n",
    "4) Pseudocode:\n",
    "   1) **START**\n",
    "   2) **DECLARE**a integer variable as num\n",
    "   3) **PROMPT** user to enter the value of num :\"enter number\"\n",
    "   4) **READ** value of num from user.\n",
    "   5) **DECLARE**a integer variable as up\n",
    "   6) **PROMPT** user to enter the value of lb :\"enter lower bound\"\n",
    "   7) **READ** value of lb from user.\n",
    "   8) **DECLARE**a integer variable as lb\n",
    "   9) **PROMPT** user to enter the value of up :\"enter upper bound\"\n",
    "   10) **READ** value of up from user.\n",
    "   11) **LOOP**:\n",
    "        **DECLARE**LCV as i in range (lb,up)\n",
    "        **INCREMENT** i by 1\n",
    "        **PRINT** num*i.\n",
    "   12)  **END**\n",
    "\n",
    "INPUPT:2-10\n",
    "PROCESSING:11\n",
    "OUPTPUT:11\n",
    "DISPLAY OUTPUT:11"
   ]
  },
  {
   "cell_type": "code",
   "execution_count": 19,
   "id": "4a072dff-c789-4683-86a2-8712e2044b21",
   "metadata": {},
   "outputs": [
    {
     "name": "stdin",
     "output_type": "stream",
     "text": [
      "enter number 2\n",
      "enter lower bound 1\n",
      "enter upper bound 4\n"
     ]
    },
    {
     "name": "stdout",
     "output_type": "stream",
     "text": [
      "2\n",
      "4\n",
      "6\n",
      "8\n"
     ]
    }
   ],
   "source": [
    "## inputting number\n",
    "num=int(input(\"enter number\"));\n",
    "#inputting lower and upper bound respectively\n",
    "lb=int(input(\"enter lower bound\"));\n",
    "up=int(input(\"enter upper bound\"));\n",
    "#loop\n",
    "for i in range(lb,up+1,1):\n",
    "    print(num*i);\n",
    "    \n"
   ]
  },
  {
   "cell_type": "markdown",
   "id": "89e987b4-7c24-4bfe-8969-c3702418deaf",
   "metadata": {},
   "source": [
    "4) 2 user driven programs practise "
   ]
  },
  {
   "cell_type": "markdown",
   "id": "a620c934-290c-4b65-9ae8-642afb72bb5b",
   "metadata": {},
   "source": [
    "A) Write a Python program that allows the user to guess a randomly generated number between 1 and 100.The program should give feedback on whether the guessed number is too high, too low, or correct. The user should be able to keep guessing until they get it right."
   ]
  },
  {
   "cell_type": "markdown",
   "id": "604ec31d-dbe2-4789-9a8b-c299d804cca1",
   "metadata": {},
   "source": [
    "Using template based approach to solve this problem\n",
    "Extracting client requirement:number guessing game and jugding user input range on being high,low or correct\n",
    "input:number\n",
    "no.of inputs:depends on user\n",
    "processing:generating random number through by random module\n",
    "output:random numbers\n",
    "no.of outputs:continue until user wishes to exit\n",
    "PSEUDOCODE:\n",
    "   1) **START**\n",
    "   2) **IMPORT** random module\n",
    "   3) **DELARE** a str variable as check\n",
    "   4) **ASSIGN** check with value yes\n",
    "   5) WHILE:checking value of check\n",
    "       6) **DECLARE**a integer variable as number\n",
    "       7) **PROMPT** user to enter the value of number :\"enter number\"\n",
    "       8) **READ** value of number from user.\n",
    "       9) **DECLARE**a integer variable as guess\n",
    "       10) **PRINT** value of guess Through random module\n",
    "       11) IF:\n",
    "              number IS EQUAL TO guess\n",
    "              **PRINT**you guessed it right\n",
    "      END IF\n",
    "       12) ELIF:\n",
    "              number IS LESS THAN guess\n",
    "              **PRINT**you guessed it low\n",
    "        13) ELSE:\n",
    "            **PRINT**you guessed it high\n",
    "        14) **PROMPT** user to enter the value of check :\"please enter yes to continue or any other key to exit\"\n",
    "15)  **END**\n",
    "input:6-8,14\n",
    "output:11-13\n",
    "display output:11-13"
   ]
  },
  {
   "cell_type": "code",
   "execution_count": 34,
   "id": "4474cfe7-e349-4622-b15b-446bcb808e04",
   "metadata": {},
   "outputs": [
    {
     "name": "stdin",
     "output_type": "stream",
     "text": [
      "please enter number 23\n"
     ]
    },
    {
     "name": "stdout",
     "output_type": "stream",
     "text": [
      "generated random number is: 8\n",
      "yu guessed high\n"
     ]
    },
    {
     "name": "stdin",
     "output_type": "stream",
     "text": [
      "please enter yes to continue or any other key to exit yes\n",
      "please enter number 9\n"
     ]
    },
    {
     "name": "stdout",
     "output_type": "stream",
     "text": [
      "generated random number is: 63\n",
      "you guessed low\n"
     ]
    },
    {
     "name": "stdin",
     "output_type": "stream",
     "text": [
      "please enter yes to continue or any other key to exit no\n"
     ]
    }
   ],
   "source": [
    "# using random module\n",
    "import random;\n",
    "#inputting numbers from user\n",
    "check=\"yes\";\n",
    "#loop\n",
    "while(check==\"yes\"):\n",
    "    number=int(input(\"please enter number\"));\n",
    "#generation of random numbers\n",
    "    guess=random.randrange(1,100);\n",
    "#printing random numbers\n",
    "    print(\"generated random number is:\",guess);\n",
    "#comparing both values to judge \n",
    "    if(number==guess):\n",
    "        print(\"you guessed it right\");\n",
    "    elif(number<=guess):\n",
    "        print(\"you guessed low\");\n",
    "    else:\n",
    "        print(\"you guessed high\");\n",
    "#continue checking or no\n",
    "    check=input(\"please enter yes to continue or any other key to exit\");"
   ]
  },
  {
   "cell_type": "markdown",
   "id": "4dcad50a-cfee-4dba-a916-917532572c86",
   "metadata": {},
   "source": [
    "B) Taking year as input to show leap year user driven edition"
   ]
  },
  {
   "cell_type": "markdown",
   "id": "f3a1a3a9-cf96-4cdd-b6c0-60d2bb723696",
   "metadata": {},
   "source": [
    "1) Extracting client requiremnets:Taking year as input to show leap year\n",
    "2) Input:1 in int as most sutiable data type....no.of inputs:1\n",
    "3) Processing:\n",
    "No.of outputs:1 (str as most sutiable data type)\n",
    "5) Pseudocode:\n",
    "   1) **START**\n",
    "   2) **DECLARE**a str variable as check\n",
    "   3) **SET** check with \"yes\".\n",
    "   4) **WHILE** check==\"yes\"\n",
    "     5) **DECLARE**a integer variable as year\n",
    "     6) **PROMPT** the user to enter year: “enter year”.\n",
    "     7) **READ**the input value of year from user.\n",
    "     **CONDITION**:\n",
    "     5) IF\n",
    "        (year % 400 == 0) or ((year % 100 != 0)and(year%4==0)):\n",
    "         **PRINT**(\"leap year\");\n",
    "    ENDIF\n",
    "        6) ELSE:\n",
    "             **PRINT**(\"not a leap year\")\n",
    "        7) **PROMPT** user: \"do you want to continue check then press \\\"yes\\\" or press no to exit\"\n",
    "        8) **READ** value of check from user\n",
    "9) **END**\n",
    "\n",
    "INPUPT:5-6,7-8\n",
    "PROCESSING:5\n",
    "OUPTPUT:5\n",
    "OUTPUT DISPLAY: 5"
   ]
  },
  {
   "cell_type": "code",
   "execution_count": null,
   "id": "d7d83e32-64d2-4a48-8fa9-4f6b9d1a2359",
   "metadata": {},
   "outputs": [],
   "source": [
    "#assigning check value \"yes\"\n",
    "check=\"yes\";\n",
    "while(check==\"yes\"):\n",
    "# inputting year\n",
    "    year=int(input(\"enter year\"));\n",
    "#conditions\n",
    "    if (year % 400 == 0) or ((year % 100 != 0)and(year%4==0)):\n",
    "        print(\"leap year\");\n",
    "    else:\n",
    "        print(\"not a leap year\");\n",
    "#inputting check\n",
    "    check=input(\"do you want to continue check then press \\\"yes\\\" or press no to exit\" );"
   ]
  },
  {
   "cell_type": "markdown",
   "id": "377deec7-b2b3-485d-aeb2-652588ad2346",
   "metadata": {},
   "source": [
    "1) printing patterens using for loop(lec#9)"
   ]
  },
  {
   "cell_type": "markdown",
   "id": "670ee53e-d271-406e-99c7-b0cfe693ca0f",
   "metadata": {},
   "source": [
    "*\n",
    "**\n",
    "***\n",
    "****\n",
    "*****"
   ]
  },
  {
   "cell_type": "markdown",
   "id": "195d3dba-c264-475d-b0f0-e0d56da3aa21",
   "metadata": {},
   "source": [
    "1) Extracting client requiremnets:printing pattren\n",
    "2) Input:0 \n",
    "3) Processing:printing patterens by inner and outr loops\n",
    "No.of outputs:1 (str as most sutiable data type)\n",
    "5) Pseudocode:\n",
    "   1) **START**\n",
    "   2) **DECLARE** integer variable rows and set it to 5 (number of rows for the pattern).\n",
    "   3) FOR i from 1 to rows (inclusive):\n",
    "   4) FOR j from 1 to i (inclusive):\n",
    "   5) **PRINT** \"*\" (without a newline, using end=\"\")\n",
    "   6) **PRINT** (to move to the next line after completing the current row)\n",
    "   7) **END**\n",
    "input:-\n",
    "output:5-6\n",
    "display output:5-6\n"
   ]
  },
  {
   "cell_type": "code",
   "execution_count": 64,
   "id": "08cac10a-1762-4a13-9def-f3013f271678",
   "metadata": {},
   "outputs": [
    {
     "name": "stdout",
     "output_type": "stream",
     "text": [
      "*\n",
      "**\n",
      "***\n",
      "****\n",
      "*****\n"
     ]
    }
   ],
   "source": [
    "#identifying outer loop by no.of rows\n",
    "rows=5;\n",
    "for i in range(1,rows+1):\n",
    "#inner loop\n",
    "    for j in range (1,i+1):\n",
    "#end for avoiding new line in single repetition\n",
    "        print(\"*\",end=\"\");\n",
    "#new line\n",
    "    print()"
   ]
  },
  {
   "cell_type": "markdown",
   "id": "b6ef4dbf-2803-4c83-b72b-c63294710bc7",
   "metadata": {},
   "source": [
    "2) printing pattern on screen\n",
    "1\n",
    "1 2\n",
    "1 2 3\n",
    "1 2 3 4\n",
    "1 2 3 4 5"
   ]
  },
  {
   "cell_type": "markdown",
   "id": "277da97a-6703-4cc6-bda7-b6a57869de39",
   "metadata": {},
   "source": [
    "1) Extracting client requiremnets:printing pattren\n",
    "2) Input:0 \n",
    "3) Processing:printing patterens by inner and outr loops\n",
    "No.of outputs:1 (str as most sutiable data type)\n",
    "5) Pseudocode:\n",
    "   1) **START**\n",
    "   2) **DECLARE** integer variable rows and set it to 5 (number of rows for the pattern).\n",
    "   3) FOR i from 1 to rows (inclusive):\n",
    "   4) FOR j from 1 to i (inclusive):\n",
    "   5) **PRINT** \"*\" (without a newline, using end=\"\")\n",
    "   6) **PRINT** (to move to the next line after completing the current row)\n",
    "   7) **END**\n",
    "input:-\n",
    "output:5-6\n",
    "display output:5-6"
   ]
  },
  {
   "cell_type": "code",
   "execution_count": 66,
   "id": "a6fe5d17-06fa-4bad-9211-57560f143611",
   "metadata": {
    "scrolled": true
   },
   "outputs": [
    {
     "name": "stdout",
     "output_type": "stream",
     "text": [
      "1 \n",
      "1 2 \n",
      "1 2 3 \n",
      "1 2 3 4 \n",
      "1 2 3 4 5 \n"
     ]
    }
   ],
   "source": [
    "#identifying outer loop by no.of rows\n",
    "rows=5;\n",
    "for i in range(1,rows+1):\n",
    "#inner loop\n",
    "    for j in range (1,i+1):\n",
    "#end for avoiding new line in single repetition\n",
    "        print(j,end=\" \");\n",
    "#new line\n",
    "    print()"
   ]
  },
  {
   "cell_type": "markdown",
   "id": "9366c355-0f61-40f1-8f48-f1d897512be9",
   "metadata": {},
   "source": [
    "3)   *\n",
    "    * *\n",
    "   * * *\n",
    "  * * * *\n",
    " * * * * *"
   ]
  },
  {
   "cell_type": "markdown",
   "id": "d4553b8c-52af-4251-95c3-d218fb276851",
   "metadata": {},
   "source": [
    "1) Extracting client requiremnets:printing pattren\n",
    "2) Input:0 \n",
    "3) Processing:printing patterens by inner and outr loops\n",
    "No.of outputs:1 (str as most sutiable data type)\n",
    "5) Pseudocode:\n",
    "   1) **SET** rows = 5\n",
    "   2) FOR i FROM 1 TO rows\n",
    "   3) **PRINT** (rows - i) spaces\n",
    "   4) FOR j FROM 1 TO i\n",
    "   5) **PRINT** \"* \", (with a space after each asterisk)\n",
    "   6) **PRINT** new line\n",
    "input:-\n",
    "output:5-6\n",
    "display output:5-6\n"
   ]
  },
  {
   "cell_type": "code",
   "execution_count": 73,
   "id": "fb31d435-a8c6-4a57-b851-4aa9278357f3",
   "metadata": {},
   "outputs": [
    {
     "name": "stdout",
     "output_type": "stream",
     "text": [
      "    * \n",
      "   * * \n",
      "  * * * \n",
      " * * * * \n",
      "* * * * * \n"
     ]
    }
   ],
   "source": [
    "rows = 5  # Total number of rows\n",
    "\n",
    "for i in range(1, rows + 1):  # Outer loop for each row\n",
    "    # Print leading spaces\n",
    "    for _ in range(rows - i):\n",
    "        print(\" \", end=\"\")  # Print space, no newline\n",
    "    \n",
    "    # Print asterisks\n",
    "    for _ in range(i):\n",
    "        print(\"*\", end=\" \")  # Print asterisk with a space, no newline\n",
    "    \n",
    "    # Move to the next line after each row\n",
    "    print()\n"
   ]
  },
  {
   "cell_type": "markdown",
   "id": "50f6e98c-1c9a-414f-be4e-b98e7bc56989",
   "metadata": {},
   "source": [
    "3)\n",
    "    * \n",
    "   * * \n",
    "  * * * \n",
    " * * * * \n",
    "* * * * *\n",
    " * * * *\n",
    "  * * *\n",
    "   * *\n",
    "    *"
   ]
  },
  {
   "cell_type": "markdown",
   "id": "967b01ee-b59a-40c3-bb83-519303c4972f",
   "metadata": {},
   "source": [
    "1. SET rows = 5\n",
    "\n",
    "2. FOR i FROM 1 TO rows\n",
    "    3. PRINT (rows - i) spaces\n",
    "    4. FOR j FROM 1 TO i\n",
    "        5. PRINT \"* \", (with a space after each asterisk)\n",
    "    6. PRINT new line\n",
    "\n",
    "7. FOR i FROM rows - 1 TO 1\n",
    "    8. PRINT (rows - i) spaces\n",
    "    9. FOR j FROM 1 TO i\n",
    "        10. PRINT \"* \", (with a space after each asterisk)\n",
    "    11. PRINT new line\n"
   ]
  },
  {
   "cell_type": "code",
   "execution_count": 74,
   "id": "8293d6b6-d253-4b24-8258-0014efedb18d",
   "metadata": {},
   "outputs": [
    {
     "name": "stdout",
     "output_type": "stream",
     "text": [
      "    * \n",
      "   * * \n",
      "  * * * \n",
      " * * * * \n",
      "* * * * * \n",
      " * * * * \n",
      "  * * * \n",
      "   * * \n",
      "    * \n"
     ]
    }
   ],
   "source": [
    "rows = 5  # Number of rows in the pyramid\n",
    "\n",
    "# Upper part of the pattern (pyramid)\n",
    "for i in range(1, rows + 1):\n",
    "    # Print leading spaces\n",
    "    for _ in range(rows - i):\n",
    "        print(\" \", end=\"\")  # Print space, no newline\n",
    "    \n",
    "    # Print asterisks\n",
    "    for _ in range(i):\n",
    "        print(\"*\", end=\" \")  # Print asterisk with a space, no newline\n",
    "    \n",
    "    # Move to the next line after printing all characters for the current row\n",
    "    print()\n",
    "\n",
    "# Lower part of the pattern (inverted pyramid)\n",
    "for i in range(rows - 1, 0, -1):\n",
    "    # Print leading spaces\n",
    "    for _ in range(rows - i):\n",
    "        print(\" \", end=\"\")  # Print space, no newline\n",
    "    \n",
    "    # Print asterisks\n",
    "    for _ in range(i):\n",
    "        print(\"*\", end=\" \")  # Print asterisk with a space, no newline\n",
    "    \n",
    "    # Move to the next line after printing all characters for the current row\n",
    "    print()\n"
   ]
  },
  {
   "cell_type": "code",
   "execution_count": null,
   "id": "b3338352-660b-4706-8036-f1b2cd212a44",
   "metadata": {},
   "outputs": [],
   "source": []
  }
 ],
 "metadata": {
  "kernelspec": {
   "display_name": "Python 3 (ipykernel)",
   "language": "python",
   "name": "python3"
  },
  "language_info": {
   "codemirror_mode": {
    "name": "ipython",
    "version": 3
   },
   "file_extension": ".py",
   "mimetype": "text/x-python",
   "name": "python",
   "nbconvert_exporter": "python",
   "pygments_lexer": "ipython3",
   "version": "3.12.3"
  }
 },
 "nbformat": 4,
 "nbformat_minor": 5
}
